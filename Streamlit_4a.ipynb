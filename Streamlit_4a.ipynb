
!pip install streamlit
Requirement already satisfied: streamlit in c:\users\sonalisucharita\appdata\local\anaconda3\envs\kpmg\lib\site-packages (1.24.0)
Requirement already satisfied: cachetools<6,>=4.0 in c:\users\sonalisucharita\appdata\local\anaconda3\envs\kpmg\lib\site-packages (from streamlit) (5.3.1)
Requirement already satisfied: typing-extensions<5,>=4.0.1 in c:\users\sonalisucharita\appdata\local\anaconda3\envs\kpmg\lib\site-packages (from streamlit) (4.5.0)
Requirement already satisfied: tornado<7,>=6.0.3 in c:\users\sonalisucharita\appdata\local\anaconda3\envs\kpmg\lib\site-packages (from streamlit) (6.2)
Requirement already satisfied: watchdog in c:\users\sonalisucharita\appdata\local\anaconda3\envs\kpmg\lib\site-packages (from streamlit) (3.0.0)
Requirement already satisfied: tenacity<9,>=8.0.0 in c:\users\sonalisucharita\appdata\local\anaconda3\envs\kpmg\lib\site-packages (from streamlit) (8.2.2)
Requirement already satisfied: requests<3,>=2.4 in c:\users\sonalisucharita\appdata\local\anaconda3\envs\kpmg\lib\site-packages (from streamlit) (2.31.0)
Requirement already satisfied: gitpython!=3.1.19,<4,>=3 in c:\users\sonalisucharita\appdata\local\anaconda3\envs\kpmg\lib\site-packages (from streamlit) (3.1.31)
Requirement already satisfied: numpy<2,>=1 in c:\users\sonalisucharita\appdata\local\anaconda3\envs\kpmg\lib\site-packages (from streamlit) (1.24.3)
Requirement already satisfied: rich<14,>=10.11.0 in c:\users\sonalisucharita\appdata\local\anaconda3\envs\kpmg\lib\site-packages (from streamlit) (13.4.2)
Requirement already satisfied: validators<1,>=0.2 in c:\users\sonalisucharita\appdata\local\anaconda3\envs\kpmg\lib\site-packages (from streamlit) (0.20.0)
Requirement already satisfied: altair<6,>=4.0 in c:\users\sonalisucharita\appdata\local\anaconda3\envs\kpmg\lib\site-packages (from streamlit) (5.0.1)
Requirement already satisfied: pillow<10,>=6.2.0 in c:\users\sonalisucharita\appdata\local\anaconda3\envs\kpmg\lib\site-packages (from streamlit) (9.5.0)
Requirement already satisfied: pandas<3,>=0.25 in c:\users\sonalisucharita\appdata\local\anaconda3\envs\kpmg\lib\site-packages (from streamlit) (2.0.2)
Requirement already satisfied: python-dateutil<3,>=2 in c:\users\sonalisucharita\appdata\local\anaconda3\envs\kpmg\lib\site-packages (from streamlit) (2.8.2)
Requirement already satisfied: pydeck<1,>=0.1.dev5 in c:\users\sonalisucharita\appdata\local\anaconda3\envs\kpmg\lib\site-packages (from streamlit) (0.8.1b0)
Requirement already satisfied: protobuf<5,>=3.20 in c:\users\sonalisucharita\appdata\local\anaconda3\envs\kpmg\lib\site-packages (from streamlit) (4.23.3)
Requirement already satisfied: packaging<24,>=14.1 in c:\users\sonalisucharita\appdata\local\anaconda3\envs\kpmg\lib\site-packages (from streamlit) (23.0)
Requirement already satisfied: click<9,>=7.0 in c:\users\sonalisucharita\appdata\local\anaconda3\envs\kpmg\lib\site-packages (from streamlit) (8.1.3)
Requirement already satisfied: toml<2 in c:\users\sonalisucharita\appdata\local\anaconda3\envs\kpmg\lib\site-packages (from streamlit) (0.10.2)
Requirement already satisfied: pympler<2,>=0.9 in c:\users\sonalisucharita\appdata\local\anaconda3\envs\kpmg\lib\site-packages (from streamlit) (1.0.1)
Requirement already satisfied: importlib-metadata<7,>=1.4 in c:\users\sonalisucharita\appdata\local\anaconda3\envs\kpmg\lib\site-packages (from streamlit) (6.7.0)
Requirement already satisfied: tzlocal<5,>=1.1 in c:\users\sonalisucharita\appdata\local\anaconda3\envs\kpmg\lib\site-packages (from streamlit) (4.3.1)
Requirement already satisfied: pyarrow>=4.0 in c:\users\sonalisucharita\appdata\local\anaconda3\envs\kpmg\lib\site-packages (from streamlit) (12.0.1)
Requirement already satisfied: blinker<2,>=1.0.0 in c:\users\sonalisucharita\appdata\local\anaconda3\envs\kpmg\lib\site-packages (from streamlit) (1.6.2)
Requirement already satisfied: jinja2 in c:\users\sonalisucharita\appdata\local\anaconda3\envs\kpmg\lib\site-packages (from altair<6,>=4.0->streamlit) (3.1.2)
Requirement already satisfied: jsonschema>=3.0 in c:\users\sonalisucharita\appdata\local\anaconda3\envs\kpmg\lib\site-packages (from altair<6,>=4.0->streamlit) (4.17.3)
Requirement already satisfied: toolz in c:\users\sonalisucharita\appdata\local\anaconda3\envs\kpmg\lib\site-packages (from altair<6,>=4.0->streamlit) (0.12.0)
Requirement already satisfied: colorama in c:\users\sonalisucharita\appdata\local\anaconda3\envs\kpmg\lib\site-packages (from click<9,>=7.0->streamlit) (0.4.6)
Requirement already satisfied: gitdb<5,>=4.0.1 in c:\users\sonalisucharita\appdata\local\anaconda3\envs\kpmg\lib\site-packages (from gitpython!=3.1.19,<4,>=3->streamlit) (4.0.10)
Requirement already satisfied: zipp>=0.5 in c:\users\sonalisucharita\appdata\local\anaconda3\envs\kpmg\lib\site-packages (from importlib-metadata<7,>=1.4->streamlit) (3.15.0)
Requirement already satisfied: pytz>=2020.1 in c:\users\sonalisucharita\appdata\local\anaconda3\envs\kpmg\lib\site-packages (from pandas<3,>=0.25->streamlit) (2023.3)
Requirement already satisfied: tzdata>=2022.1 in c:\users\sonalisucharita\appdata\local\anaconda3\envs\kpmg\lib\site-packages (from pandas<3,>=0.25->streamlit) (2023.3)
Requirement already satisfied: six>=1.5 in c:\users\sonalisucharita\appdata\local\anaconda3\envs\kpmg\lib\site-packages (from python-dateutil<3,>=2->streamlit) (1.16.0)
Requirement already satisfied: charset-normalizer<4,>=2 in c:\users\sonalisucharita\appdata\local\anaconda3\envs\kpmg\lib\site-packages (from requests<3,>=2.4->streamlit) (3.1.0)
Requirement already satisfied: urllib3<3,>=1.21.1 in c:\users\sonalisucharita\appdata\local\anaconda3\envs\kpmg\lib\site-packages (from requests<3,>=2.4->streamlit) (2.0.2)
Requirement already satisfied: idna<4,>=2.5 in c:\users\sonalisucharita\appdata\local\anaconda3\envs\kpmg\lib\site-packages (from requests<3,>=2.4->streamlit) (3.4)
Requirement already satisfied: certifi>=2017.4.17 in c:\users\sonalisucharita\appdata\local\anaconda3\envs\kpmg\lib\site-packages (from requests<3,>=2.4->streamlit) (2023.5.7)
Requirement already satisfied: pygments<3.0.0,>=2.13.0 in c:\users\sonalisucharita\appdata\local\anaconda3\envs\kpmg\lib\site-packages (from rich<14,>=10.11.0->streamlit) (2.15.1)
Requirement already satisfied: markdown-it-py>=2.2.0 in c:\users\sonalisucharita\appdata\local\anaconda3\envs\kpmg\lib\site-packages (from rich<14,>=10.11.0->streamlit) (3.0.0)
Requirement already satisfied: pytz-deprecation-shim in c:\users\sonalisucharita\appdata\local\anaconda3\envs\kpmg\lib\site-packages (from tzlocal<5,>=1.1->streamlit) (0.1.0.post0)
Requirement already satisfied: decorator>=3.4.0 in c:\users\sonalisucharita\appdata\local\anaconda3\envs\kpmg\lib\site-packages (from validators<1,>=0.2->streamlit) (5.1.1)
Requirement already satisfied: smmap<6,>=3.0.1 in c:\users\sonalisucharita\appdata\local\anaconda3\envs\kpmg\lib\site-packages (from gitdb<5,>=4.0.1->gitpython!=3.1.19,<4,>=3->streamlit) (5.0.0)
Requirement already satisfied: MarkupSafe>=2.0 in c:\users\sonalisucharita\appdata\local\anaconda3\envs\kpmg\lib\site-packages (from jinja2->altair<6,>=4.0->streamlit) (2.1.1)
Requirement already satisfied: attrs>=17.4.0 in c:\users\sonalisucharita\appdata\local\anaconda3\envs\kpmg\lib\site-packages (from jsonschema>=3.0->altair<6,>=4.0->streamlit) (22.1.0)
Requirement already satisfied: pyrsistent!=0.17.0,!=0.17.1,!=0.17.2,>=0.14.0 in c:\users\sonalisucharita\appdata\local\anaconda3\envs\kpmg\lib\site-packages (from jsonschema>=3.0->altair<6,>=4.0->streamlit) (0.18.0)
Requirement already satisfied: mdurl~=0.1 in c:\users\sonalisucharita\appdata\local\anaconda3\envs\kpmg\lib\site-packages (from markdown-it-py>=2.2.0->rich<14,>=10.11.0->streamlit) (0.1.2)
import streamlit as st

def main():
    st.title("File Uploader")

    # Create three file upload boxes
    Call_Transcript = st.file_uploader("Upload Call Transcript", type=["txt", "pdf"])
    

    # Create a text box to display process status
    status_text = st.empty()

    # Create a button to start processing
    if st.button("Process File"):
        # Check if all files are uploaded
        if Call_Transcript is not None:
            # Update status text
            status_text.text("Processing file...")

            # Perform processing here
            # ...

            # Update status text
            status_text.text("File processed successfully.")

            # Create a download button
            st.download_button("Download Processed Files", data=processed_files, file_name="processed_files.zip", mime="application/zip")
        else:
            # Update status text
            status_text.text("Please upload all files.")

if __name__ == "__main__":
    main()
2023-07-06 10:39:10.168 
  Warning: to view this Streamlit app on a browser, run it with the following
  command:

    streamlit run C:\Users\sonalisucharita\AppData\Local\anaconda3\envs\KPMG\lib\site-packages\ipykernel_launcher.py [ARGUMENTS]
